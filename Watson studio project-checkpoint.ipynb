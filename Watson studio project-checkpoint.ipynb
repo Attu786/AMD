{
 "cells": [
  {
   "cell_type": "markdown",
   "id": "2a3f2227",
   "metadata": {},
   "source": [
    "# My first Jupyter Notebook\n"
   ]
  },
  {
   "cell_type": "markdown",
   "id": "482fc785",
   "metadata": {},
   "source": [
    "##### Akarshit kashyap"
   ]
  },
  {
   "cell_type": "markdown",
   "id": "c0fefe76",
   "metadata": {},
   "source": [
    "###### 100% human"
   ]
  },
  {
   "cell_type": "markdown",
   "id": "d940dd37",
   "metadata": {},
   "source": [
    "######  i choose data science becuase i am really interesed in data algorithms from my chilhood which help me to gain my knowlege in data science and real world problems and i love to gain insights from data."
   ]
  },
  {
   "cell_type": "markdown",
   "id": "792537c3",
   "metadata": {},
   "source": [
    "### The Following code tests Gauss formula"
   ]
  },
  {
   "cell_type": "code",
   "execution_count": 1,
   "id": "f28b8150",
   "metadata": {},
   "outputs": [
    {
     "data": {
      "text/plain": [
       "True"
      ]
     },
     "execution_count": 1,
     "metadata": {},
     "output_type": "execute_result"
    }
   ],
   "source": [
    "def guass(n):\n",
    "    return(n*(n+1))/2\n",
    "guass(100) == sum(range(101))"
   ]
  },
  {
   "cell_type": "code",
   "execution_count": null,
   "id": "edc4b1e3",
   "metadata": {},
   "outputs": [],
   "source": []
  }
 ],
 "metadata": {
  "kernelspec": {
   "display_name": "Python 3 (ipykernel)",
   "language": "python",
   "name": "python3"
  },
  "language_info": {
   "codemirror_mode": {
    "name": "ipython",
    "version": 3
   },
   "file_extension": ".py",
   "mimetype": "text/x-python",
   "name": "python",
   "nbconvert_exporter": "python",
   "pygments_lexer": "ipython3",
   "version": "3.9.13"
  }
 },
 "nbformat": 4,
 "nbformat_minor": 5
}
